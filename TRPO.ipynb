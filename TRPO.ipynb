{
 "cells": [
  {
   "cell_type": "code",
   "execution_count": 1,
   "metadata": {},
   "outputs": [],
   "source": [
    "from csrl.mdp import GridMDP\n",
    "from csrl.oa import OmegaAutomaton\n",
    "from csrl import ControlSynthesis\n",
    "import numpy as np \n",
    "import matplotlib.pyplot as plt\n",
    "from tqdm import tqdm\n",
    "# import scipy.special as sc\n",
    "from scipy.special import softmax"
   ]
  },
  {
   "cell_type": "markdown",
   "metadata": {},
   "source": [
    "using dill to import product MDP generated offline, avoiding installation of rabinzer4 package"
   ]
  },
  {
   "cell_type": "code",
   "execution_count": 2,
   "metadata": {},
   "outputs": [
    {
     "name": "stdout",
     "output_type": "stream",
     "text": [
      "0.99999\n",
      "0.99\n"
     ]
    }
   ],
   "source": [
    "import dill\n",
    "dill.load_session('product_MDP.pkl')\n",
    "# dill.load_session('product_MDP_2_Gamma_0.9_0.9.pkl')\n",
    "# dill.load_session('product_MDP_2_Gamma_0.8_0.4.pkl')\n",
    "print(csrl.discount)\n",
    "print(csrl.discountB)"
   ]
  },
  {
   "cell_type": "code",
   "execution_count": 3,
   "metadata": {},
   "outputs": [],
   "source": [
    "def one_trajectroy(initial_state,csrl,theta,length): \n",
    "    state   = initial_state\n",
    "    reward  = csrl.reward[state]\n",
    "    state_hist  = [state]\n",
    "    reward_hist = [reward]\n",
    "    gamma_hist  = [csrl.discountB if reward else csrl.discount]\n",
    "    action_hist = []\n",
    "    for t in range(T):\n",
    "        A_set = csrl.A[state]\n",
    "        # softmax, from theta to probability\n",
    "        # Policy, action distributation given state and theta\n",
    "        action = A_set[np.random.choice(len(A_set),p= softmax_state(theta,state,csrl) )]\n",
    "        states, probs = csrl.transition_probs[state][action]\n",
    "        state = states[np.random.choice(len(states),p=probs)]\n",
    "        reward = csrl.reward[state]\n",
    "        gamma = csrl.discountB if reward else csrl.discount\n",
    "        state_hist.append(state)\n",
    "        reward_hist.append(reward)\n",
    "        gamma_hist.append(gamma)\n",
    "        action_hist.append(action)\n",
    "    state_hist  = state_hist[:-1]\n",
    "    reward_hist = reward_hist[:-1]\n",
    "    gamma_hist  = gamma_hist[:-1]\n",
    "    G_t = reward_hist[-1]\n",
    "    G_t_hist = [G_t]\n",
    "    for t in range(T-2,-1,-1):\n",
    "        G_t = reward_hist[t] + gamma_hist[t] * G_t\n",
    "        G_t_hist.append(G_t)\n",
    "    G_t_hist.reverse()\n",
    "    return state_hist, action_hist, G_t_hist, gamma_hist\n",
    "\n",
    "def transition_matrix():\n",
    "    # policy_dist =  np.zeros(theta.shape)\n",
    "    dim = csrl.shape[:-1][0]*csrl.shape[:-1][1]*csrl.shape[:-1][2]*csrl.shape[:-1][3]\n",
    "    P_pi = np.zeros([dim,dim])\n",
    "    index = 0\n",
    "    R_pi = np.zeros([dim,1])\n",
    "    for i,q,r,c in csrl.states():\n",
    "        state = (i,q,r,c)\n",
    "        R_pi[index] = csrl.reward[state]\n",
    "        A_set   = csrl.A[state]\n",
    "        # softmax, from theta to probability\n",
    "        Policy_s_theta = softmax_state(theta,state,csrl)\n",
    "        states_array = []    \n",
    "        probs_array = []\n",
    "        for action in A_set:\n",
    "            Pi_A_theta = Policy_s_theta[A_set.index(action)]\n",
    "            if action < len(csrl.mdp.A): # MDP actions\n",
    "                q_ = oa.delta[q][csrl.mdp.label[r,c]]  # OA transition\n",
    "                mdp_states, probs = csrl.mdp.get_transition_prob((r,c),csrl.mdp.A[action])  # MDP transition\n",
    "                states = [(i,q_,)+s for s in mdp_states]\n",
    "                probs = np.array(probs) * Pi_A_theta\n",
    "                probs = probs.tolist()\n",
    "            else:  # epsilon-actions\n",
    "                states, probs = ([(i,action-len(csrl.mdp.A),r,c)], [1.])\n",
    "                probs = np.array(probs) * Pi_A_theta\n",
    "                probs = probs.tolist()\n",
    "            states_array = states_array +  states\n",
    "            probs_array = probs_array + probs\n",
    "    \n",
    "        for k in range(len(states_array)):\n",
    "            s_plus = states_array[k]\n",
    "            s_plus = s_plus[1]*csrl.shape[:-1][2]*csrl.shape[:-1][3] +  s_plus[2]*csrl.shape[:-1][3] +  s_plus[3]\n",
    "            # s_plus = int(s_plus)\n",
    "            P_pi[s_plus,index] = probs_array[k] + P_pi[s_plus,index]            \n",
    "        index = index +1\n",
    "    return P_pi, R_pi\n",
    "\n",
    "def softmax_state(theta,state,csrl):\n",
    "    Action_set = csrl.A[state]  \n",
    "    # temp = theta[state][:len(Action_set)] / np.linalg.norm(theta[state][:len(Action_set)])\n",
    "    temp = theta[state][:len(Action_set)]\n",
    "    Policy_A_theta = softmax(temp)\n",
    "#     Policy_A_theta = np.exp(temp) / np.sum(np.exp(temp))\n",
    "    return Policy_A_theta\n",
    "\n",
    "def derivate_softmax(theta,state,csrl,action,Policy_A_theta):\n",
    "    Action_set = csrl.A[state]\n",
    "    P_a = Policy_A_theta[Action_set.index(action)]\n",
    "    Grad_Pi = np.zeros([len(Action_set),1])\n",
    "    for i in range(len(Grad_Pi)):\n",
    "        if i == Action_set.index(action):\n",
    "            Grad_Pi[i] = P_a*(1-P_a)\n",
    "        else:\n",
    "            Grad_Pi[i] = -P_a * Policy_A_theta[i]\n",
    "    return Grad_Pi"
   ]
  },
  {
   "cell_type": "markdown",
   "metadata": {},
   "source": [
    "this derivate_softmax is $\\frac{\\partial \\pi(a_t|s)}{\\partial \\theta} $"
   ]
  },
  {
   "cell_type": "code",
   "execution_count": 4,
   "metadata": {},
   "outputs": [],
   "source": [
    "#%%\n",
    "T = 30\n",
    "K = 6000\n",
    "csrl.discount = 0.99999\n",
    "csrl.discountB = 0.99"
   ]
  },
  {
   "cell_type": "markdown",
   "metadata": {},
   "source": [
    "$T$ batch size, $K$ steps, set $\\gamma>\\gamma_B$"
   ]
  },
  {
   "cell_type": "code",
   "execution_count": null,
   "metadata": {},
   "outputs": [
    {
     "name": "stderr",
     "output_type": "stream",
     "text": [
      " 94%|█████████▍| 5649/6000 [11:43<00:41,  8.38it/s]"
     ]
    }
   ],
   "source": [
    "#%%\n",
    "theta = np.ones(csrl.shape)\n",
    "V = np.zeros(csrl.shape[:-1])\n",
    "V_hist = np.zeros([K+1] + list(csrl.shape[:-1]) )\n",
    "Policy_hist = np.zeros([K+1] + list(csrl.shape[:-1]) )\n",
    "\n",
    "theta_hist = np.zeros( [K+1] + list(csrl.shape) )\n",
    "theta_hist[0] = theta\n",
    "eig_max_hist = np.zeros([K])\n",
    "eig_min_hist = np.zeros([K])\n",
    "di_norm_hist = np.zeros([K])\n",
    "\n",
    "for k in tqdm(range(K)):\n",
    "    # k_th episode\n",
    "    # initial state\n",
    "    state   = (csrl.shape[0]-1,csrl.oa.q0)+(csrl.mdp.random_state())\n",
    "    reward  = csrl.reward[state]\n",
    "# =============================================================================\n",
    "# simulate and record 1 trajectroy,\n",
    "    state_hist  = [state]\n",
    "    reward_hist = [reward]\n",
    "    gamma_hist  = [csrl.discountB if reward else csrl.discount]\n",
    "    action_hist = []\n",
    "    for t in range(T):\n",
    "        A_set = csrl.A[state]\n",
    "        # softmax, from theta to probability\n",
    "        # Policy, action distributation given state and theta\n",
    "        Policy_s_theta = softmax_state(theta,state,csrl)\n",
    "        action = A_set[np.random.choice(len(A_set),p=Policy_s_theta)]\n",
    "        states, probs = csrl.transition_probs[state][action]\n",
    "        state = states[np.random.choice(len(states),p=probs)]\n",
    "        reward = csrl.reward[state]\n",
    "        gamma = csrl.discount\n",
    "        \n",
    "        state_hist.append(state)\n",
    "        reward_hist.append(reward)\n",
    "        gamma_hist.append(gamma)\n",
    "        action_hist.append(action)\n",
    "    state_hist  = state_hist[:-1]\n",
    "    reward_hist = reward_hist[:-1]\n",
    "    gamma_hist  = gamma_hist[:-1]\n",
    "    G_t = reward_hist[-1]\n",
    "    G_t_hist = [ G_t]\n",
    "    for t in range(T-2,-1,-1):\n",
    "        G_t = reward_hist[t] + gamma_hist[t] * G_t\n",
    "        G_t_hist.append(G_t)\n",
    "    G_t_hist.reverse()\n",
    "# =============================================================================\n",
    "# use 1 trajectory to generate policy gradient and update parameter once, \n",
    "    # alpha = np.max((1.0*(1 - 1.5*k/K),0.001))\n",
    "    alpha = 1\n",
    "    PG = np.zeros(csrl.shape)\n",
    "    Grad_theta_Pi = np.zeros(csrl.shape)\n",
    "    Grad_V = np.zeros(csrl.shape[:-1])\n",
    "    for t in range(T):\n",
    "        state   = state_hist[t]\n",
    "        action  = action_hist[t]\n",
    "        A_set   = csrl.A[state]\n",
    "        # softmax, from theta to probability\n",
    "        Policy_s_theta = softmax_state(theta,state,csrl)\n",
    "        Pi_A_theta = Policy_s_theta[A_set.index(action)]\n",
    "        # derivate of log softmax, pi w.r.t. theta\n",
    "        Grad_Pi = derivate_softmax(theta,state,csrl,action,Policy_s_theta) / Pi_A_theta\n",
    "        \n",
    "\n",
    "        PG_state = np.prod(gamma_hist[0:t:1]) * (G_t_hist[t] + V[state_hist[-1]]- V[state]) *  Grad_Pi \n",
    "        PG[state][0:len(PG_state):1] += PG_state.flatten()\n",
    "        Grad_V[state] = Grad_V[state] + (G_t_hist[t]- V[state])  \n",
    "        \n",
    "        Grad_log_Pi_state = np.prod(gamma_hist[0:t:1]) * Grad_Pi /T\n",
    "        Grad_theta_Pi[state][0:len(PG_state):1] += Grad_log_Pi_state.flatten()\n",
    "        \n",
    "    FIM = Grad_theta_Pi.flatten().reshape(-1,1)  @ Grad_theta_Pi.flatten().reshape(-1,1).T\n",
    "    # FIM = np.eye(640)\n",
    "    \n",
    "    # eig = np.linalg.eigvals(FIM)\n",
    "    # eig_max_hist[k] = eig.max()\n",
    "    # eig_min_hist[k] = eig.min()\n",
    "    # x = cg( FIM, PG.flatten() )\n",
    "    # x =  np.linalg.pinv(FIM+ 0.1*np.eye(640) ) @ PG.flatten()\n",
    "    x =  np.linalg.pinv(FIM) @ PG.flatten()\n",
    "    delta = 0.05\n",
    "    x_THx = x.reshape(-1,1).T @ FIM @ x.reshape(-1,1)\n",
    "    di = np.sqrt( 2*delta / (x_THx if x_THx else 1) )   * x\n",
    "    # di = np.sqrt( 2*delta / (x.reshape(-1,1).T @ FIM @ x.reshape(-1,1) if x.reshape(-1,1).T @ FIM @ x.reshape(-1,1) else 1) )   * x\n",
    "    # di = np.sqrt(     2*delta/ x.reshape(-1,1).T @ FIM @ x.reshape(-1,1)  )   * x\n",
    "    di = di.reshape(theta.shape)\n",
    "    # di_norm_hist[k] = np.linalg.norm(di)\n",
    "    # theta = theta   +   alpha * di / T\n",
    "    theta = theta   +   0.5*di/T\n",
    "    V =     V       +   Grad_V/T\n",
    "        \n",
    "    V_hist[k+1] = V\n",
    "    theta_hist[k+1] = theta\n",
    "# ============================================================================="
   ]
  },
  {
   "cell_type": "markdown",
   "metadata": {},
   "source": [
    "choose a random initial state, generate 1 trajectory $\\tau$, use this trajectory to update $\\theta$ once,\n",
    "$ \\theta = \\theta + \\mathbb{E}_\\tau \\big{[} [G_t + \\hat{V}(s_T) - \\hat{V}(s_t)]   \\nabla_{\\theta} \\log (\\pi_{\\theta}(a_t|s_t))\\big{]}\\big{]}$\n",
    "\n",
    "FIM is given as \n",
    "$\\mathbb{E}_\\tau \\big{[}\\nabla_{\\theta} \\log(\\pi(a_t|s_t)) \\nabla_{\\theta} \\log(\\pi(a_t|s_t))^T \\big{]}$"
   ]
  },
  {
   "cell_type": "code",
   "execution_count": 6,
   "metadata": {},
   "outputs": [
    {
     "name": "stdout",
     "output_type": "stream",
     "text": [
      "policy\n",
      "[[1 3 1 1]\n",
      " [2 2 2 2]\n",
      " [0 1 4 0]\n",
      " [0 2 4 3]\n",
      " [0 0 0 3]]\n",
      "value\n",
      "[[0.   0.   0.   0.11]\n",
      " [0.   0.01 0.07 0.23]\n",
      " [0.   0.02 0.   0.14]\n",
      " [0.21 0.12 0.22 0.12]\n",
      " [0.11 0.   0.08 0.  ]]\n"
     ]
    }
   ],
   "source": [
    "#%% from theta to policy\n",
    "policy = np.zeros(csrl.shape[:-1])\n",
    "for i,q,r,c in csrl.states():\n",
    "    state = (i,q,r,c)\n",
    "    # temp = theta[state][0:len(csrl.A[state])]\n",
    "    temp = theta[state][csrl.A[state]]\n",
    "    policy[state] = np.argmax(temp)\n",
    "    policy = policy.astype(int)\n",
    "print('policy')\n",
    "print(policy[0,0])\n",
    "print('value')\n",
    "print( np.around( (np.sum(V_hist[round(k/10*9):k:1],axis=0)/(k/10))[0,0],decimals = 2 ))"
   ]
  },
  {
   "cell_type": "markdown",
   "metadata": {},
   "source": [
    "use PR-averging, take avergae of a portition tail as result, "
   ]
  },
  {
   "cell_type": "code",
   "execution_count": 7,
   "metadata": {},
   "outputs": [
    {
     "data": {
      "text/plain": [
       "[<matplotlib.lines.Line2D at 0x2acb8703eaf0>]"
      ]
     },
     "execution_count": 7,
     "metadata": {},
     "output_type": "execute_result"
    },
    {
     "data": {
      "image/png": "[encoded data removed]",
      "text/plain": [
       "<Figure size 432x288 with 1 Axes>"
      ]
     },
     "metadata": {
      "needs_background": "light"
     },
     "output_type": "display_data"
    }
   ],
   "source": [
    "#%%\n",
    "plt.figure()\n",
    "# plt.hold(True)\n",
    "plt.plot(range(k),V_hist[0:k:1,0,0,0,0])\n",
    "plt.plot(range(k),V_hist[0:k:1,0,0,1,2])\n",
    "plt.plot(range(k),V_hist[0:k:1,0,0,1,3])"
   ]
  },
  {
   "cell_type": "code",
   "execution_count": 8,
   "metadata": {},
   "outputs": [
    {
     "data": {
      "text/plain": [
       "[<matplotlib.lines.Line2D at 0x2acb87078130>,\n",
       " <matplotlib.lines.Line2D at 0x2acb8711ba00>,\n",
       " <matplotlib.lines.Line2D at 0x2acb8711bac0>,\n",
       " <matplotlib.lines.Line2D at 0x2acb8711bb80>,\n",
       " <matplotlib.lines.Line2D at 0x2acb8711bc40>,\n",
       " <matplotlib.lines.Line2D at 0x2acb8711bd00>,\n",
       " <matplotlib.lines.Line2D at 0x2acb8711bdc0>,\n",
       " <matplotlib.lines.Line2D at 0x2acb8711be80>]"
      ]
     },
     "execution_count": 8,
     "metadata": {},
     "output_type": "execute_result"
    },
    {
     "data": {
      "image/png": "[encoded data removed]",
      "text/plain": [
       "<Figure size 432x288 with 1 Axes>"
      ]
     },
     "metadata": {
      "needs_background": "light"
     },
     "output_type": "display_data"
    }
   ],
   "source": [
    "#%%\n",
    "plt.figure()\n",
    "plt.plot(range(k),theta_hist[0:k:1,0,0,3,3])"
   ]
  },
  {
   "cell_type": "code",
   "execution_count": null,
   "metadata": {},
   "outputs": [],
   "source": []
  }
 ],
 "metadata": {
  "kernelspec": {
   "display_name": "Python 3 (ipykernel)",
   "language": "python",
   "name": "python3"
  },
  "language_info": {
   "codemirror_mode": {
    "name": "ipython",
    "version": 3
   },
   "file_extension": ".py",
   "mimetype": "text/x-python",
   "name": "python",
   "nbconvert_exporter": "python",
   "pygments_lexer": "ipython3",
   "version": "3.8.1"
  }
 },
 "nbformat": 4,
 "nbformat_minor": 4
}
